{
 "cells": [
  {
   "cell_type": "code",
   "execution_count": 30,
   "id": "4b374c58",
   "metadata": {},
   "outputs": [],
   "source": [
    "import os\n",
    "import pandas as pd\n",
    "import win32com.client\n",
    "from datetime import datetime\n",
    "from unidecode import unidecode"
   ]
  },
  {
   "cell_type": "code",
   "execution_count": 31,
   "id": "223fc859",
   "metadata": {},
   "outputs": [],
   "source": [
    "try:\n",
    "    local_folder = os.path.dirname(os.path.abspath(__file__))\n",
    "except:\n",
    "    local_folder = os.getcwd()"
   ]
  },
  {
   "cell_type": "code",
   "execution_count": 32,
   "id": "17cbbe7d",
   "metadata": {},
   "outputs": [],
   "source": [
    "lista_emails = pd.read_excel('lista_emails.xlsx')"
   ]
  },
  {
   "cell_type": "code",
   "execution_count": 33,
   "id": "ae2e605f",
   "metadata": {},
   "outputs": [],
   "source": [
    "lista_emails.columns = [unidecode(col) for col in lista_emails.columns]"
   ]
  },
  {
   "cell_type": "code",
   "execution_count": 34,
   "id": "5ab36e41",
   "metadata": {},
   "outputs": [],
   "source": [
    "lista_emails['MES_REF'] = lista_emails['MES_REF'].map('{:0>2d}'.format)\n",
    "\n",
    "lista_emails['REF_FATURA'] = lista_emails['MES_REF'] + '/' + lista_emails['ANO_REF'].map(str)\n",
    "\n",
    "lista_emails['DATA_VENCIMENTO'] = lista_emails['DATA_VENCIMENTO'].dt.strftime('%d/%m/%Y')\n",
    "\n",
    "lista_emails['VALOR'] = lista_emails['VALOR'].map('{:,.2f}'.format).replace('\\.', '-', regex=True).replace(',', '.', regex=True).replace('-', ',', regex=True)\n",
    "\n",
    "lista_emails['SUJEITO_A_CORTE_A_PARTIR_DE'] = lista_emails['SUJEITO_A_CORTE_A_PARTIR_DE'].dt.strftime('%d/%m/%Y')\n",
    "\n",
    "lista_emails['VENCIMENTO_REAVISO'] = lista_emails['VENCIMENTO_REAVISO'].dt.strftime('%d/%m/%Y')"
   ]
  },
  {
   "cell_type": "code",
   "execution_count": 35,
   "id": "85f7af35",
   "metadata": {},
   "outputs": [],
   "source": [
    "data_hoje = datetime.now().strftime('%d/%m/%Y')"
   ]
  },
  {
   "cell_type": "code",
   "execution_count": 36,
   "id": "556fa700",
   "metadata": {},
   "outputs": [],
   "source": [
    "outlook = win32com.client.Dispatch(\"Outlook.Application\")"
   ]
  },
  {
   "cell_type": "code",
   "execution_count": 37,
   "id": "e6cb663f",
   "metadata": {},
   "outputs": [],
   "source": [
    "up_local_folder = os.path.abspath(FR'{local_folder}\\..')"
   ]
  },
  {
   "cell_type": "code",
   "execution_count": 38,
   "id": "bbc4f5f0",
   "metadata": {},
   "outputs": [],
   "source": [
    "for row in lista_emails.itertuples():\n",
    "    with open(FR'{up_local_folder}\\assets\\reaviso.html', 'r', encoding='utf8') as f:\n",
    "\n",
    "        msg = outlook.CreateItem(0)\n",
    "\n",
    "        msg.Subject = 'REAVISO - ENERGISA MS'\n",
    "\n",
    "        msg.To = row.EMAIL\n",
    "        msg.Cc = ''\n",
    "\n",
    "        layout_email = f.read()\n",
    "\n",
    "        layout_email = layout_email.replace('<var>NOME_CLIENTE</var>', row.NOME_CLIENTE)\n",
    "        layout_email = layout_email.replace('<var>DATA_HOJE</var>', data_hoje)\n",
    "        layout_email = layout_email.replace('<var>NUMCDC</var>', str(row.UC))\n",
    "        layout_email = layout_email.replace('<var>VCTO_REAVISO</var>', row.VENCIMENTO_REAVISO)\n",
    "        layout_email = layout_email.replace('<var>REF_FAT</var>', row.REF_FATURA)\n",
    "        layout_email = layout_email.replace('<var>VCTO_FAT</var>', row.DATA_VENCIMENTO)\n",
    "        layout_email = layout_email.replace('<var>MES_FAT</var>', str(row.MES_REF))\n",
    "        layout_email = layout_email.replace('<var>VLR_EMIS</var>', row.VALOR)\n",
    "        layout_email = layout_email.replace('<var>DATA_CORTE</var>', row.SUJEITO_A_CORTE_A_PARTIR_DE)\n",
    "        layout_email = layout_email.replace('<var>ENDERECO_CLIENTE</var>', row.ENDERECO)\n",
    "        layout_email = layout_email.replace('_CAMINHO_IMAGENS_', up_local_folder)\n",
    "\n",
    "        msg.HTMLBody = layout_email\n",
    "\n",
    "        msg.Display()\n",
    "        msg.Send()"
   ]
  }
 ],
 "metadata": {
  "kernelspec": {
   "display_name": "Python 3",
   "language": "python",
   "name": "python3"
  },
  "language_info": {
   "codemirror_mode": {
    "name": "ipython",
    "version": 3
   },
   "file_extension": ".py",
   "mimetype": "text/x-python",
   "name": "python",
   "nbconvert_exporter": "python",
   "pygments_lexer": "ipython3",
   "version": "3.8.5"
  }
 },
 "nbformat": 4,
 "nbformat_minor": 5
}
